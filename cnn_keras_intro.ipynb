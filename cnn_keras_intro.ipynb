{
 "cells": [
  {
   "cell_type": "markdown",
   "metadata": {},
   "source": [
    "# Introduction to Artificial Neural Networks with Keras\n",
    "\n",
    "_This notebook is based on https://github.com/ageron/handson-ml2, which contains the example code of the second edition of Aurelien Geron's O'Reilly book Hands-on Machine Learning with Scikit-Learn, Keras and TensorFlow (forthcoming)_\n",
    "\n",
    "I used parts of chapters 10 (Keras nets intro) and 14 (Convolutional networks). \n",
    "\n",
    "The original codes:\n",
    "\n",
    "https://github.com/ageron/handson-ml2/blob/master/10_neural_nets_with_keras.ipynb\n",
    "\n",
    "https://github.com/ageron/handson-ml2/blob/master/14_convolutional_neural_networks.ipynb"
   ]
  },
  {
   "cell_type": "markdown",
   "metadata": {},
   "source": [
    "# Setup"
   ]
  },
  {
   "cell_type": "markdown",
   "metadata": {},
   "source": [
    "_I ran this notebook on a Google Cloud Deep Learning VM, with 2 vCPUs, 13 GB memory and a NVIDIA Tesla K80 GPU. See setup instructions here: https://github.com/cs231n/gcloud_"
   ]
  },
  {
   "cell_type": "markdown",
   "metadata": {},
   "source": [
    "First, let's import a few common modules, ensure MatplotLib plots figures inline and prepare a function to save the figures. We also check that Python 3.5 or later is installed (although Python 2.x may work, it is deprecated so we strongly recommend you use Python 3 instead). We use TensorFlow 2.0-preview."
   ]
  },
  {
   "cell_type": "code",
   "execution_count": 1,
   "metadata": {},
   "outputs": [],
   "source": [
    "# Python ≥3.5 is required\n",
    "import sys\n",
    "assert sys.version_info >= (3, 5)\n",
    "\n",
    "# TensorFlow ≥2.0-preview is required\n",
    "import tensorflow as tf\n",
    "assert tf.__version__ >= \"2.0\"\n",
    "\n",
    "# Common imports\n",
    "import numpy as np\n",
    "import os\n",
    "\n",
    "# to make this notebook's output stable across runs\n",
    "np.random.seed(42)\n",
    "\n",
    "# To plot pretty figures\n",
    "%matplotlib inline\n",
    "import matplotlib as mpl\n",
    "import matplotlib.pyplot as plt\n",
    "mpl.rc('axes', labelsize=14)\n",
    "mpl.rc('xtick', labelsize=12)\n",
    "mpl.rc('ytick', labelsize=12)\n",
    "\n",
    "# Where to save the figures\n",
    "PROJECT_ROOT_DIR = \".\"\n",
    "CHAPTER_ID = \"ann\"\n",
    "IMAGES_PATH = os.path.join(PROJECT_ROOT_DIR, \"images\", CHAPTER_ID)\n",
    "os.makedirs(IMAGES_PATH, exist_ok=True)\n",
    "\n",
    "def save_fig(fig_id, tight_layout=True, fig_extension=\"png\", resolution=300):\n",
    "    path = os.path.join(IMAGES_PATH, fig_id + \".\" + fig_extension)\n",
    "    print(\"Saving figure\", fig_id)\n",
    "    if tight_layout:\n",
    "        plt.tight_layout()\n",
    "    plt.savefig(path, format=fig_extension, dpi=resolution)"
   ]
  },
  {
   "cell_type": "markdown",
   "metadata": {},
   "source": [
    "# Building an Image Classifier"
   ]
  },
  {
   "cell_type": "markdown",
   "metadata": {},
   "source": [
    "First let's import TensorFlow and Keras."
   ]
  },
  {
   "cell_type": "code",
   "execution_count": 2,
   "metadata": {},
   "outputs": [],
   "source": [
    "import tensorflow as tf\n",
    "from tensorflow import keras"
   ]
  },
  {
   "cell_type": "code",
   "execution_count": 4,
   "metadata": {},
   "outputs": [
    {
     "data": {
      "text/plain": [
       "'2.0.0-alpha0'"
      ]
     },
     "execution_count": 4,
     "metadata": {},
     "output_type": "execute_result"
    }
   ],
   "source": [
    "tf.__version__"
   ]
  },
  {
   "cell_type": "code",
   "execution_count": 5,
   "metadata": {},
   "outputs": [
    {
     "data": {
      "text/plain": [
       "'2.2.4-tf'"
      ]
     },
     "execution_count": 5,
     "metadata": {},
     "output_type": "execute_result"
    }
   ],
   "source": [
    "keras.__version__"
   ]
  },
  {
   "cell_type": "markdown",
   "metadata": {},
   "source": [
    "# Fashion MNIST dataset\n",
    "\n",
    "Let's start by loading the fashion MNIST dataset. Keras has a number of functions to load popular datasets in `keras.datasets`. The dataset is already split for you between a training set and a test set, but it can be useful to split the training set further to have a validation set:"
   ]
  },
  {
   "cell_type": "code",
   "execution_count": 6,
   "metadata": {},
   "outputs": [
    {
     "name": "stdout",
     "output_type": "stream",
     "text": [
      "Downloading data from https://storage.googleapis.com/tensorflow/tf-keras-datasets/train-labels-idx1-ubyte.gz\n",
      "32768/29515 [=================================] - 0s 0us/step\n",
      "Downloading data from https://storage.googleapis.com/tensorflow/tf-keras-datasets/train-images-idx3-ubyte.gz\n",
      "26427392/26421880 [==============================] - 0s 0us/step\n",
      "Downloading data from https://storage.googleapis.com/tensorflow/tf-keras-datasets/t10k-labels-idx1-ubyte.gz\n",
      "8192/5148 [===============================================] - 0s 0us/step\n",
      "Downloading data from https://storage.googleapis.com/tensorflow/tf-keras-datasets/t10k-images-idx3-ubyte.gz\n",
      "4423680/4422102 [==============================] - 0s 0us/step\n"
     ]
    }
   ],
   "source": [
    "fashion_mnist = keras.datasets.fashion_mnist\n",
    "(X_train_full, y_train_full), (X_test, y_test) = fashion_mnist.load_data()"
   ]
  },
  {
   "cell_type": "markdown",
   "metadata": {},
   "source": [
    "The training set contains 60,000 grayscale images, each 28x28 pixels:"
   ]
  },
  {
   "cell_type": "code",
   "execution_count": 7,
   "metadata": {},
   "outputs": [
    {
     "data": {
      "text/plain": [
       "(60000, 28, 28)"
      ]
     },
     "execution_count": 7,
     "metadata": {},
     "output_type": "execute_result"
    }
   ],
   "source": [
    "X_train_full.shape"
   ]
  },
  {
   "cell_type": "code",
   "execution_count": 8,
   "metadata": {},
   "outputs": [
    {
     "data": {
      "text/plain": [
       "array([[  0,   0,   0,   0,   0,   0,   0,   0,   0,   0,   0,   0,   0,\n",
       "          0,   0,   0,   0,   0,   0,   0,   0,   0,   0,   0,   0,   0,\n",
       "          0,   0],\n",
       "       [  0,   0,   0,   0,   0,   0,   0,   0,   0,   0,   0,   0,   0,\n",
       "          0,   0,   0,   0,   0,   0,   0,   0,   0,   0,   0,   0,   0,\n",
       "          0,   0],\n",
       "       [  0,   0,   0,   0,   0,   0,   0,   0,   0,   0,   0,   0,   0,\n",
       "          0,   0,   0,   0,   0,   0,   0,   0,   0,   0,   0,   0,   0,\n",
       "          0,   0],\n",
       "       [  0,   0,   0,   0,   0,   0,   0,   0,   0,   0,   0,   0,   1,\n",
       "          0,   0,  13,  73,   0,   0,   1,   4,   0,   0,   0,   0,   1,\n",
       "          1,   0],\n",
       "       [  0,   0,   0,   0,   0,   0,   0,   0,   0,   0,   0,   0,   3,\n",
       "          0,  36, 136, 127,  62,  54,   0,   0,   0,   1,   3,   4,   0,\n",
       "          0,   3],\n",
       "       [  0,   0,   0,   0,   0,   0,   0,   0,   0,   0,   0,   0,   6,\n",
       "          0, 102, 204, 176, 134, 144, 123,  23,   0,   0,   0,   0,  12,\n",
       "         10,   0],\n",
       "       [  0,   0,   0,   0,   0,   0,   0,   0,   0,   0,   0,   0,   0,\n",
       "          0, 155, 236, 207, 178, 107, 156, 161, 109,  64,  23,  77, 130,\n",
       "         72,  15],\n",
       "       [  0,   0,   0,   0,   0,   0,   0,   0,   0,   0,   0,   1,   0,\n",
       "         69, 207, 223, 218, 216, 216, 163, 127, 121, 122, 146, 141,  88,\n",
       "        172,  66],\n",
       "       [  0,   0,   0,   0,   0,   0,   0,   0,   0,   1,   1,   1,   0,\n",
       "        200, 232, 232, 233, 229, 223, 223, 215, 213, 164, 127, 123, 196,\n",
       "        229,   0],\n",
       "       [  0,   0,   0,   0,   0,   0,   0,   0,   0,   0,   0,   0,   0,\n",
       "        183, 225, 216, 223, 228, 235, 227, 224, 222, 224, 221, 223, 245,\n",
       "        173,   0],\n",
       "       [  0,   0,   0,   0,   0,   0,   0,   0,   0,   0,   0,   0,   0,\n",
       "        193, 228, 218, 213, 198, 180, 212, 210, 211, 213, 223, 220, 243,\n",
       "        202,   0],\n",
       "       [  0,   0,   0,   0,   0,   0,   0,   0,   0,   1,   3,   0,  12,\n",
       "        219, 220, 212, 218, 192, 169, 227, 208, 218, 224, 212, 226, 197,\n",
       "        209,  52],\n",
       "       [  0,   0,   0,   0,   0,   0,   0,   0,   0,   0,   6,   0,  99,\n",
       "        244, 222, 220, 218, 203, 198, 221, 215, 213, 222, 220, 245, 119,\n",
       "        167,  56],\n",
       "       [  0,   0,   0,   0,   0,   0,   0,   0,   0,   4,   0,   0,  55,\n",
       "        236, 228, 230, 228, 240, 232, 213, 218, 223, 234, 217, 217, 209,\n",
       "         92,   0],\n",
       "       [  0,   0,   1,   4,   6,   7,   2,   0,   0,   0,   0,   0, 237,\n",
       "        226, 217, 223, 222, 219, 222, 221, 216, 223, 229, 215, 218, 255,\n",
       "         77,   0],\n",
       "       [  0,   3,   0,   0,   0,   0,   0,   0,   0,  62, 145, 204, 228,\n",
       "        207, 213, 221, 218, 208, 211, 218, 224, 223, 219, 215, 224, 244,\n",
       "        159,   0],\n",
       "       [  0,   0,   0,   0,  18,  44,  82, 107, 189, 228, 220, 222, 217,\n",
       "        226, 200, 205, 211, 230, 224, 234, 176, 188, 250, 248, 233, 238,\n",
       "        215,   0],\n",
       "       [  0,  57, 187, 208, 224, 221, 224, 208, 204, 214, 208, 209, 200,\n",
       "        159, 245, 193, 206, 223, 255, 255, 221, 234, 221, 211, 220, 232,\n",
       "        246,   0],\n",
       "       [  3, 202, 228, 224, 221, 211, 211, 214, 205, 205, 205, 220, 240,\n",
       "         80, 150, 255, 229, 221, 188, 154, 191, 210, 204, 209, 222, 228,\n",
       "        225,   0],\n",
       "       [ 98, 233, 198, 210, 222, 229, 229, 234, 249, 220, 194, 215, 217,\n",
       "        241,  65,  73, 106, 117, 168, 219, 221, 215, 217, 223, 223, 224,\n",
       "        229,  29],\n",
       "       [ 75, 204, 212, 204, 193, 205, 211, 225, 216, 185, 197, 206, 198,\n",
       "        213, 240, 195, 227, 245, 239, 223, 218, 212, 209, 222, 220, 221,\n",
       "        230,  67],\n",
       "       [ 48, 203, 183, 194, 213, 197, 185, 190, 194, 192, 202, 214, 219,\n",
       "        221, 220, 236, 225, 216, 199, 206, 186, 181, 177, 172, 181, 205,\n",
       "        206, 115],\n",
       "       [  0, 122, 219, 193, 179, 171, 183, 196, 204, 210, 213, 207, 211,\n",
       "        210, 200, 196, 194, 191, 195, 191, 198, 192, 176, 156, 167, 177,\n",
       "        210,  92],\n",
       "       [  0,   0,  74, 189, 212, 191, 175, 172, 175, 181, 185, 188, 189,\n",
       "        188, 193, 198, 204, 209, 210, 210, 211, 188, 188, 194, 192, 216,\n",
       "        170,   0],\n",
       "       [  2,   0,   0,   0,  66, 200, 222, 237, 239, 242, 246, 243, 244,\n",
       "        221, 220, 193, 191, 179, 182, 182, 181, 176, 166, 168,  99,  58,\n",
       "          0,   0],\n",
       "       [  0,   0,   0,   0,   0,   0,   0,  40,  61,  44,  72,  41,  35,\n",
       "          0,   0,   0,   0,   0,   0,   0,   0,   0,   0,   0,   0,   0,\n",
       "          0,   0],\n",
       "       [  0,   0,   0,   0,   0,   0,   0,   0,   0,   0,   0,   0,   0,\n",
       "          0,   0,   0,   0,   0,   0,   0,   0,   0,   0,   0,   0,   0,\n",
       "          0,   0],\n",
       "       [  0,   0,   0,   0,   0,   0,   0,   0,   0,   0,   0,   0,   0,\n",
       "          0,   0,   0,   0,   0,   0,   0,   0,   0,   0,   0,   0,   0,\n",
       "          0,   0]], dtype=uint8)"
      ]
     },
     "execution_count": 8,
     "metadata": {},
     "output_type": "execute_result"
    }
   ],
   "source": [
    "X_train_full[0,]"
   ]
  },
  {
   "cell_type": "markdown",
   "metadata": {},
   "source": [
    "Each pixel intensity is represented as a byte (0 to 255):"
   ]
  },
  {
   "cell_type": "code",
   "execution_count": 9,
   "metadata": {},
   "outputs": [
    {
     "data": {
      "text/plain": [
       "dtype('uint8')"
      ]
     },
     "execution_count": 9,
     "metadata": {},
     "output_type": "execute_result"
    }
   ],
   "source": [
    "X_train_full.dtype"
   ]
  },
  {
   "cell_type": "markdown",
   "metadata": {},
   "source": [
    "# Train-validation split\n",
    "\n",
    "Let's split the full training set into a validation set and a (smaller) training set. We also scale the pixel intensities down to the 0-1 range and convert them to floats, by dividing by 255."
   ]
  },
  {
   "cell_type": "code",
   "execution_count": 10,
   "metadata": {},
   "outputs": [],
   "source": [
    "X_valid, X_train = X_train_full[:5000] / 255., X_train_full[5000:] / 255.\n",
    "y_valid, y_train = y_train_full[:5000], y_train_full[5000:]\n",
    "X_test = X_test / 255."
   ]
  },
  {
   "cell_type": "markdown",
   "metadata": {},
   "source": [
    "You can plot an image using Matplotlib's `imshow()` function, with a `'binary'`\n",
    " color map:"
   ]
  },
  {
   "cell_type": "code",
   "execution_count": 11,
   "metadata": {},
   "outputs": [
    {
     "data": {
      "image/png": "[encoded data removed]",
      "text/plain": [
       "<Figure size 432x288 with 1 Axes>"
      ]
     },
     "metadata": {},
     "output_type": "display_data"
    }
   ],
   "source": [
    "plt.imshow(X_train[0], cmap=\"binary\")\n",
    "plt.axis('off')\n",
    "plt.show()"
   ]
  },
  {
   "cell_type": "markdown",
   "metadata": {},
   "source": [
    "The labels are the class IDs (represented as uint8), from 0 to 9:"
   ]
  },
  {
   "cell_type": "code",
   "execution_count": 12,
   "metadata": {},
   "outputs": [
    {
     "data": {
      "text/plain": [
       "array([4, 0, 7, ..., 3, 0, 5], dtype=uint8)"
      ]
     },
     "execution_count": 12,
     "metadata": {},
     "output_type": "execute_result"
    }
   ],
   "source": [
    "y_train"
   ]
  },
  {
   "cell_type": "markdown",
   "metadata": {},
   "source": [
    "Here are the corresponding class names:"
   ]
  },
  {
   "cell_type": "code",
   "execution_count": 13,
   "metadata": {},
   "outputs": [],
   "source": [
    "class_names = [\"T-shirt/top\", \"Trouser\", \"Pullover\", \"Dress\", \"Coat\",\n",
    "               \"Sandal\", \"Shirt\", \"Sneaker\", \"Bag\", \"Ankle boot\"]"
   ]
  },
  {
   "cell_type": "markdown",
   "metadata": {},
   "source": [
    "So the first image in the training set is a coat:"
   ]
  },
  {
   "cell_type": "code",
   "execution_count": 14,
   "metadata": {},
   "outputs": [
    {
     "data": {
      "text/plain": [
       "'Coat'"
      ]
     },
     "execution_count": 14,
     "metadata": {},
     "output_type": "execute_result"
    }
   ],
   "source": [
    "class_names[y_train[0]]"
   ]
  },
  {
   "cell_type": "markdown",
   "metadata": {},
   "source": [
    "The validation set contains 5,000 images, and the test set contains 10,000 images:"
   ]
  },
  {
   "cell_type": "code",
   "execution_count": 15,
   "metadata": {},
   "outputs": [
    {
     "data": {
      "text/plain": [
       "(5000, 28, 28)"
      ]
     },
     "execution_count": 15,
     "metadata": {},
     "output_type": "execute_result"
    }
   ],
   "source": [
    "X_valid.shape"
   ]
  },
  {
   "cell_type": "code",
   "execution_count": 16,
   "metadata": {},
   "outputs": [
    {
     "data": {
      "text/plain": [
       "(10000, 28, 28)"
      ]
     },
     "execution_count": 16,
     "metadata": {},
     "output_type": "execute_result"
    }
   ],
   "source": [
    "X_test.shape"
   ]
  },
  {
   "cell_type": "markdown",
   "metadata": {},
   "source": [
    "Let's take a look at a sample of the images in the dataset:"
   ]
  },
  {
   "cell_type": "code",
   "execution_count": 17,
   "metadata": {},
   "outputs": [
    {
     "name": "stdout",
     "output_type": "stream",
     "text": [
      "Saving figure fashion_mnist_diagram\n"
     ]
    },
    {
     "data": {
      "image/png": "[encoded data removed]",
      "text/plain": [
       "<Figure size 864x345.6 with 40 Axes>"
      ]
     },
     "metadata": {},
     "output_type": "display_data"
    }
   ],
   "source": [
    "n_rows = 4\n",
    "n_cols = 10\n",
    "plt.figure(figsize=(n_cols * 1.2, n_rows * 1.2))\n",
    "for row in range(n_rows):\n",
    "    for col in range(n_cols):\n",
    "        index = n_cols * row + col\n",
    "        plt.subplot(n_rows, n_cols, index + 1)\n",
    "        plt.imshow(X_train[index], cmap=\"binary\", interpolation=\"nearest\")\n",
    "        plt.axis('off')\n",
    "        plt.title(class_names[y_train[index]], fontsize=12)\n",
    "plt.subplots_adjust(wspace=0.2, hspace=0.5)\n",
    "save_fig('fashion_mnist_diagram', tight_layout=False)\n",
    "plt.show()"
   ]
  },
  {
   "cell_type": "markdown",
   "metadata": {},
   "source": [
    "# Simple fully connected network"
   ]
  },
  {
   "cell_type": "code",
   "execution_count": 18,
   "metadata": {},
   "outputs": [],
   "source": [
    "model = keras.models.Sequential()\n",
    "model.add(keras.layers.Flatten(input_shape=[28, 28]))\n",
    "model.add(keras.layers.Dense(300, activation=\"relu\"))\n",
    "model.add(keras.layers.Dense(100, activation=\"relu\"))\n",
    "model.add(keras.layers.Dense(10, activation=\"softmax\"))"
   ]
  },
  {
   "cell_type": "code",
   "execution_count": 20,
   "metadata": {},
   "outputs": [],
   "source": [
    "np.random.seed(42)\n",
    "#tf.set_random_seed(42)   # tf 1.13\n",
    "tf.random.set_seed(42)    #- tf 2.0"
   ]
  },
  {
   "cell_type": "code",
   "execution_count": 21,
   "metadata": {},
   "outputs": [],
   "source": [
    "model = keras.models.Sequential([\n",
    "    keras.layers.Flatten(input_shape=[28, 28]),\n",
    "    keras.layers.Dense(300, activation=\"relu\", name='my_first_layer'),\n",
    "    keras.layers.Dense(100, activation=\"relu\"),\n",
    "    keras.layers.Dense(10, activation=\"softmax\")\n",
    "])"
   ]
  },
  {
   "cell_type": "code",
   "execution_count": 22,
   "metadata": {},
   "outputs": [
    {
     "data": {
      "text/plain": [
       "[<tensorflow.python.keras.layers.core.Flatten at 0x7efce8b2fac8>,\n",
       " <tensorflow.python.keras.layers.core.Dense at 0x7efce8b2f860>,\n",
       " <tensorflow.python.keras.layers.core.Dense at 0x7efce8b2f4a8>,\n",
       " <tensorflow.python.keras.layers.core.Dense at 0x7efce8b2fef0>]"
      ]
     },
     "execution_count": 22,
     "metadata": {},
     "output_type": "execute_result"
    }
   ],
   "source": [
    "model.layers"
   ]
  },
  {
   "cell_type": "code",
   "execution_count": 23,
   "metadata": {},
   "outputs": [
    {
     "name": "stdout",
     "output_type": "stream",
     "text": [
      "Model: \"sequential_1\"\n",
      "_________________________________________________________________\n",
      "Layer (type)                 Output Shape              Param #   \n",
      "=================================================================\n",
      "flatten_1 (Flatten)          (None, 784)               0         \n",
      "_________________________________________________________________\n",
      "my_first_layer (Dense)       (None, 300)               235500    \n",
      "_________________________________________________________________\n",
      "dense_3 (Dense)              (None, 100)               30100     \n",
      "_________________________________________________________________\n",
      "dense_4 (Dense)              (None, 10)                1010      \n",
      "=================================================================\n",
      "Total params: 266,610\n",
      "Trainable params: 266,610\n",
      "Non-trainable params: 0\n",
      "_________________________________________________________________\n"
     ]
    }
   ],
   "source": [
    "model.summary()"
   ]
  },
  {
   "cell_type": "code",
   "execution_count": 24,
   "metadata": {},
   "outputs": [
    {
     "data": {
      "text/plain": [
       "'my_first_layer'"
      ]
     },
     "execution_count": 24,
     "metadata": {},
     "output_type": "execute_result"
    }
   ],
   "source": [
    "hidden1 = model.layers[1]\n",
    "hidden1.name"
   ]
  },
  {
   "cell_type": "code",
   "execution_count": 25,
   "metadata": {},
   "outputs": [
    {
     "data": {
      "text/plain": [
       "'my_first_layer'"
      ]
     },
     "execution_count": 25,
     "metadata": {},
     "output_type": "execute_result"
    }
   ],
   "source": [
    "model.get_layer(hidden1.name).name"
   ]
  },
  {
   "cell_type": "code",
   "execution_count": 26,
   "metadata": {},
   "outputs": [],
   "source": [
    "weights, biases = hidden1.get_weights()"
   ]
  },
  {
   "cell_type": "code",
   "execution_count": 27,
   "metadata": {},
   "outputs": [
    {
     "data": {
      "text/plain": [
       "array([[ 0.02448617, -0.00877795, -0.02189048, ..., -0.02766046,\n",
       "         0.03859074, -0.06889391],\n",
       "       [ 0.00476504, -0.03105379, -0.0586676 , ...,  0.00602964,\n",
       "        -0.02763776, -0.04165364],\n",
       "       [-0.06189284, -0.06901957,  0.07102345, ..., -0.04238207,\n",
       "         0.07121518, -0.07331658],\n",
       "       ...,\n",
       "       [-0.03048757,  0.02155137, -0.05400612, ..., -0.00113463,\n",
       "         0.00228987,  0.05581069],\n",
       "       [ 0.07061854, -0.06960931,  0.07038955, ..., -0.00384101,\n",
       "         0.00034875,  0.02878492],\n",
       "       [-0.06022581,  0.01577859, -0.02585464, ..., -0.00527829,\n",
       "         0.00272203, -0.06793761]], dtype=float32)"
      ]
     },
     "execution_count": 27,
     "metadata": {},
     "output_type": "execute_result"
    }
   ],
   "source": [
    "weights"
   ]
  },
  {
   "cell_type": "code",
   "execution_count": 28,
   "metadata": {},
   "outputs": [
    {
     "data": {
      "text/plain": [
       "(784, 300)"
      ]
     },
     "execution_count": 28,
     "metadata": {},
     "output_type": "execute_result"
    }
   ],
   "source": [
    "weights.shape"
   ]
  },
  {
   "cell_type": "code",
   "execution_count": 29,
   "metadata": {},
   "outputs": [
    {
     "data": {
      "text/plain": [
       "array([0., 0., 0., 0., 0., 0., 0., 0., 0., 0., 0., 0., 0., 0., 0., 0., 0.,\n",
       "       0., 0., 0., 0., 0., 0., 0., 0., 0., 0., 0., 0., 0., 0., 0., 0., 0.,\n",
       "       0., 0., 0., 0., 0., 0., 0., 0., 0., 0., 0., 0., 0., 0., 0., 0., 0.,\n",
       "       0., 0., 0., 0., 0., 0., 0., 0., 0., 0., 0., 0., 0., 0., 0., 0., 0.,\n",
       "       0., 0., 0., 0., 0., 0., 0., 0., 0., 0., 0., 0., 0., 0., 0., 0., 0.,\n",
       "       0., 0., 0., 0., 0., 0., 0., 0., 0., 0., 0., 0., 0., 0., 0., 0., 0.,\n",
       "       0., 0., 0., 0., 0., 0., 0., 0., 0., 0., 0., 0., 0., 0., 0., 0., 0.,\n",
       "       0., 0., 0., 0., 0., 0., 0., 0., 0., 0., 0., 0., 0., 0., 0., 0., 0.,\n",
       "       0., 0., 0., 0., 0., 0., 0., 0., 0., 0., 0., 0., 0., 0., 0., 0., 0.,\n",
       "       0., 0., 0., 0., 0., 0., 0., 0., 0., 0., 0., 0., 0., 0., 0., 0., 0.,\n",
       "       0., 0., 0., 0., 0., 0., 0., 0., 0., 0., 0., 0., 0., 0., 0., 0., 0.,\n",
       "       0., 0., 0., 0., 0., 0., 0., 0., 0., 0., 0., 0., 0., 0., 0., 0., 0.,\n",
       "       0., 0., 0., 0., 0., 0., 0., 0., 0., 0., 0., 0., 0., 0., 0., 0., 0.,\n",
       "       0., 0., 0., 0., 0., 0., 0., 0., 0., 0., 0., 0., 0., 0., 0., 0., 0.,\n",
       "       0., 0., 0., 0., 0., 0., 0., 0., 0., 0., 0., 0., 0., 0., 0., 0., 0.,\n",
       "       0., 0., 0., 0., 0., 0., 0., 0., 0., 0., 0., 0., 0., 0., 0., 0., 0.,\n",
       "       0., 0., 0., 0., 0., 0., 0., 0., 0., 0., 0., 0., 0., 0., 0., 0., 0.,\n",
       "       0., 0., 0., 0., 0., 0., 0., 0., 0., 0., 0.], dtype=float32)"
      ]
     },
     "execution_count": 29,
     "metadata": {},
     "output_type": "execute_result"
    }
   ],
   "source": [
    "biases"
   ]
  },
  {
   "cell_type": "code",
   "execution_count": 30,
   "metadata": {},
   "outputs": [
    {
     "data": {
      "text/plain": [
       "(300,)"
      ]
     },
     "execution_count": 30,
     "metadata": {},
     "output_type": "execute_result"
    }
   ],
   "source": [
    "biases.shape"
   ]
  },
  {
   "cell_type": "code",
   "execution_count": 31,
   "metadata": {},
   "outputs": [],
   "source": [
    "model.compile(loss=\"sparse_categorical_crossentropy\",\n",
    "              optimizer=\"sgd\",\n",
    "              metrics=[\"accuracy\"])"
   ]
  },
  {
   "cell_type": "markdown",
   "metadata": {},
   "source": [
    "This is equivalent to:"
   ]
  },
  {
   "cell_type": "code",
   "execution_count": 32,
   "metadata": {},
   "outputs": [],
   "source": [
    "model.compile(loss=keras.losses.sparse_categorical_crossentropy,\n",
    "              optimizer=keras.optimizers.SGD(),\n",
    "              metrics=[keras.metrics.sparse_categorical_accuracy])"
   ]
  },
  {
   "cell_type": "markdown",
   "metadata": {},
   "source": [
    "# Training"
   ]
  },
  {
   "cell_type": "code",
   "execution_count": 33,
   "metadata": {},
   "outputs": [
    {
     "name": "stdout",
     "output_type": "stream",
     "text": [
      "Train on 55000 samples, validate on 5000 samples\n",
      "Epoch 1/50\n",
      "55000/55000 [==============================] - 7s 126us/sample - loss: 1.4948 - sparse_categorical_accuracy: 0.5757 - val_loss: 1.0042 - val_sparse_categorical_accuracy: 0.7166\n",
      "Epoch 2/50\n",
      "55000/55000 [==============================] - 6s 106us/sample - loss: 0.8690 - sparse_categorical_accuracy: 0.7318 - val_loss: 0.7549 - val_sparse_categorical_accuracy: 0.7616\n",
      "Epoch 3/50\n",
      "55000/55000 [==============================] - 6s 107us/sample - loss: 0.7176 - sparse_categorical_accuracy: 0.7667 - val_loss: 0.6611 - val_sparse_categorical_accuracy: 0.7890\n",
      "Epoch 4/50\n",
      "55000/55000 [==============================] - 6s 107us/sample - loss: 0.6459 - sparse_categorical_accuracy: 0.7891 - val_loss: 0.6049 - val_sparse_categorical_accuracy: 0.8094\n",
      "Epoch 5/50\n",
      "55000/55000 [==============================] - 6s 107us/sample - loss: 0.5995 - sparse_categorical_accuracy: 0.8039 - val_loss: 0.5691 - val_sparse_categorical_accuracy: 0.8186\n",
      "Epoch 6/50\n",
      "55000/55000 [==============================] - 6s 107us/sample - loss: 0.5673 - sparse_categorical_accuracy: 0.8130 - val_loss: 0.5432 - val_sparse_categorical_accuracy: 0.8240\n",
      "Epoch 7/50\n",
      "55000/55000 [==============================] - 6s 106us/sample - loss: 0.5433 - sparse_categorical_accuracy: 0.8195 - val_loss: 0.5230 - val_sparse_categorical_accuracy: 0.8324\n",
      "Epoch 8/50\n",
      "55000/55000 [==============================] - 6s 107us/sample - loss: 0.5245 - sparse_categorical_accuracy: 0.8249 - val_loss: 0.5057 - val_sparse_categorical_accuracy: 0.8358\n",
      "Epoch 9/50\n",
      "55000/55000 [==============================] - 6s 109us/sample - loss: 0.5094 - sparse_categorical_accuracy: 0.8293 - val_loss: 0.4926 - val_sparse_categorical_accuracy: 0.8360\n",
      "Epoch 10/50\n",
      "55000/55000 [==============================] - 6s 107us/sample - loss: 0.4970 - sparse_categorical_accuracy: 0.8323 - val_loss: 0.4841 - val_sparse_categorical_accuracy: 0.8370\n",
      "Epoch 11/50\n",
      "55000/55000 [==============================] - 6s 106us/sample - loss: 0.4865 - sparse_categorical_accuracy: 0.8359 - val_loss: 0.4711 - val_sparse_categorical_accuracy: 0.8420\n",
      "Epoch 12/50\n",
      "55000/55000 [==============================] - 6s 106us/sample - loss: 0.4774 - sparse_categorical_accuracy: 0.8382 - val_loss: 0.4674 - val_sparse_categorical_accuracy: 0.8436\n",
      "Epoch 13/50\n",
      "55000/55000 [==============================] - 6s 106us/sample - loss: 0.4694 - sparse_categorical_accuracy: 0.8413 - val_loss: 0.4611 - val_sparse_categorical_accuracy: 0.8454\n",
      "Epoch 14/50\n",
      "55000/55000 [==============================] - 6s 108us/sample - loss: 0.4628 - sparse_categorical_accuracy: 0.8429 - val_loss: 0.4522 - val_sparse_categorical_accuracy: 0.8510\n",
      "Epoch 15/50\n",
      "55000/55000 [==============================] - 6s 107us/sample - loss: 0.4564 - sparse_categorical_accuracy: 0.8436 - val_loss: 0.4465 - val_sparse_categorical_accuracy: 0.8516\n",
      "Epoch 16/50\n",
      "55000/55000 [==============================] - 6s 107us/sample - loss: 0.4506 - sparse_categorical_accuracy: 0.8457 - val_loss: 0.4418 - val_sparse_categorical_accuracy: 0.8494\n",
      "Epoch 17/50\n",
      "55000/55000 [==============================] - 6s 108us/sample - loss: 0.4453 - sparse_categorical_accuracy: 0.8474 - val_loss: 0.4389 - val_sparse_categorical_accuracy: 0.8510\n",
      "Epoch 18/50\n",
      "55000/55000 [==============================] - 6s 107us/sample - loss: 0.4409 - sparse_categorical_accuracy: 0.8485 - val_loss: 0.4353 - val_sparse_categorical_accuracy: 0.8518\n",
      "Epoch 19/50\n",
      "55000/55000 [==============================] - 6s 107us/sample - loss: 0.4362 - sparse_categorical_accuracy: 0.8502 - val_loss: 0.4293 - val_sparse_categorical_accuracy: 0.8546\n",
      "Epoch 20/50\n",
      "55000/55000 [==============================] - 6s 105us/sample - loss: 0.4319 - sparse_categorical_accuracy: 0.8513 - val_loss: 0.4283 - val_sparse_categorical_accuracy: 0.8560\n",
      "Epoch 21/50\n",
      "55000/55000 [==============================] - 6s 106us/sample - loss: 0.4283 - sparse_categorical_accuracy: 0.8518 - val_loss: 0.4214 - val_sparse_categorical_accuracy: 0.8620\n",
      "Epoch 22/50\n",
      "55000/55000 [==============================] - 6s 112us/sample - loss: 0.4245 - sparse_categorical_accuracy: 0.8545 - val_loss: 0.4201 - val_sparse_categorical_accuracy: 0.8576\n",
      "Epoch 23/50\n",
      "55000/55000 [==============================] - 6s 111us/sample - loss: 0.4209 - sparse_categorical_accuracy: 0.8553 - val_loss: 0.4163 - val_sparse_categorical_accuracy: 0.8594\n",
      "Epoch 24/50\n",
      "55000/55000 [==============================] - 6s 107us/sample - loss: 0.4176 - sparse_categorical_accuracy: 0.8559 - val_loss: 0.4163 - val_sparse_categorical_accuracy: 0.8598\n",
      "Epoch 25/50\n",
      "55000/55000 [==============================] - 6s 107us/sample - loss: 0.4144 - sparse_categorical_accuracy: 0.8574 - val_loss: 0.4112 - val_sparse_categorical_accuracy: 0.8616\n",
      "Epoch 26/50\n",
      "55000/55000 [==============================] - 6s 106us/sample - loss: 0.4115 - sparse_categorical_accuracy: 0.8581 - val_loss: 0.4149 - val_sparse_categorical_accuracy: 0.8594\n",
      "Epoch 27/50\n",
      "55000/55000 [==============================] - 6s 106us/sample - loss: 0.4085 - sparse_categorical_accuracy: 0.8600 - val_loss: 0.4088 - val_sparse_categorical_accuracy: 0.8638\n",
      "Epoch 28/50\n",
      "55000/55000 [==============================] - 6s 106us/sample - loss: 0.4053 - sparse_categorical_accuracy: 0.8606 - val_loss: 0.4054 - val_sparse_categorical_accuracy: 0.8636\n",
      "Epoch 29/50\n",
      "55000/55000 [==============================] - 6s 108us/sample - loss: 0.4029 - sparse_categorical_accuracy: 0.8614 - val_loss: 0.4018 - val_sparse_categorical_accuracy: 0.8650\n",
      "Epoch 30/50\n",
      "55000/55000 [==============================] - 6s 107us/sample - loss: 0.4004 - sparse_categorical_accuracy: 0.8621 - val_loss: 0.4009 - val_sparse_categorical_accuracy: 0.8656\n",
      "Epoch 31/50\n",
      "55000/55000 [==============================] - 6s 107us/sample - loss: 0.3980 - sparse_categorical_accuracy: 0.8626 - val_loss: 0.3963 - val_sparse_categorical_accuracy: 0.8668\n",
      "Epoch 32/50\n",
      "55000/55000 [==============================] - 6s 107us/sample - loss: 0.3956 - sparse_categorical_accuracy: 0.8631 - val_loss: 0.4007 - val_sparse_categorical_accuracy: 0.8664\n",
      "Epoch 33/50\n",
      "55000/55000 [==============================] - 6s 106us/sample - loss: 0.3933 - sparse_categorical_accuracy: 0.8652 - val_loss: 0.3934 - val_sparse_categorical_accuracy: 0.8676\n",
      "Epoch 34/50\n",
      "55000/55000 [==============================] - 6s 107us/sample - loss: 0.3910 - sparse_categorical_accuracy: 0.8642 - val_loss: 0.3965 - val_sparse_categorical_accuracy: 0.8636\n",
      "Epoch 35/50\n",
      "55000/55000 [==============================] - 6s 107us/sample - loss: 0.3884 - sparse_categorical_accuracy: 0.8656 - val_loss: 0.3892 - val_sparse_categorical_accuracy: 0.8678\n",
      "Epoch 36/50\n",
      "55000/55000 [==============================] - 6s 106us/sample - loss: 0.3866 - sparse_categorical_accuracy: 0.8659 - val_loss: 0.3915 - val_sparse_categorical_accuracy: 0.8664\n",
      "Epoch 37/50\n",
      "55000/55000 [==============================] - 6s 106us/sample - loss: 0.3845 - sparse_categorical_accuracy: 0.8673 - val_loss: 0.3868 - val_sparse_categorical_accuracy: 0.8680\n",
      "Epoch 38/50\n",
      "55000/55000 [==============================] - 6s 106us/sample - loss: 0.3821 - sparse_categorical_accuracy: 0.8671 - val_loss: 0.3846 - val_sparse_categorical_accuracy: 0.8704\n",
      "Epoch 39/50\n",
      "55000/55000 [==============================] - 6s 107us/sample - loss: 0.3800 - sparse_categorical_accuracy: 0.8685 - val_loss: 0.3866 - val_sparse_categorical_accuracy: 0.8692\n",
      "Epoch 40/50\n",
      "55000/55000 [==============================] - 6s 107us/sample - loss: 0.3782 - sparse_categorical_accuracy: 0.8686 - val_loss: 0.3863 - val_sparse_categorical_accuracy: 0.8702\n",
      "Epoch 41/50\n",
      "55000/55000 [==============================] - 6s 106us/sample - loss: 0.3764 - sparse_categorical_accuracy: 0.8691 - val_loss: 0.3846 - val_sparse_categorical_accuracy: 0.8668\n",
      "Epoch 42/50\n",
      "55000/55000 [==============================] - 6s 106us/sample - loss: 0.3745 - sparse_categorical_accuracy: 0.8696 - val_loss: 0.3784 - val_sparse_categorical_accuracy: 0.8720\n",
      "Epoch 43/50\n",
      "55000/55000 [==============================] - 6s 106us/sample - loss: 0.3725 - sparse_categorical_accuracy: 0.8707 - val_loss: 0.3778 - val_sparse_categorical_accuracy: 0.8700\n",
      "Epoch 44/50\n",
      "55000/55000 [==============================] - 6s 106us/sample - loss: 0.3709 - sparse_categorical_accuracy: 0.8708 - val_loss: 0.3847 - val_sparse_categorical_accuracy: 0.8676\n",
      "Epoch 45/50\n",
      "55000/55000 [==============================] - 6s 106us/sample - loss: 0.3691 - sparse_categorical_accuracy: 0.8711 - val_loss: 0.3771 - val_sparse_categorical_accuracy: 0.8700\n",
      "Epoch 46/50\n",
      "55000/55000 [==============================] - 6s 109us/sample - loss: 0.3675 - sparse_categorical_accuracy: 0.8720 - val_loss: 0.3756 - val_sparse_categorical_accuracy: 0.8706\n",
      "Epoch 47/50\n",
      "55000/55000 [==============================] - 6s 110us/sample - loss: 0.3659 - sparse_categorical_accuracy: 0.8728 - val_loss: 0.3731 - val_sparse_categorical_accuracy: 0.8712\n",
      "Epoch 48/50\n",
      "55000/55000 [==============================] - 6s 107us/sample - loss: 0.3643 - sparse_categorical_accuracy: 0.8733 - val_loss: 0.3734 - val_sparse_categorical_accuracy: 0.8696\n",
      "Epoch 49/50\n",
      "55000/55000 [==============================] - 6s 106us/sample - loss: 0.3624 - sparse_categorical_accuracy: 0.8737 - val_loss: 0.3724 - val_sparse_categorical_accuracy: 0.8710\n",
      "Epoch 50/50\n",
      "55000/55000 [==============================] - 6s 108us/sample - loss: 0.3607 - sparse_categorical_accuracy: 0.8752 - val_loss: 0.3706 - val_sparse_categorical_accuracy: 0.8728\n"
     ]
    }
   ],
   "source": [
    "history = model.fit(X_train, y_train, epochs=50,\n",
    "                    validation_data=(X_valid, y_valid))"
   ]
  },
  {
   "cell_type": "code",
   "execution_count": 34,
   "metadata": {},
   "outputs": [
    {
     "data": {
      "text/plain": [
       "{'batch_size': 32,\n",
       " 'epochs': 50,\n",
       " 'steps': None,\n",
       " 'samples': 55000,\n",
       " 'verbose': 0,\n",
       " 'do_validation': True,\n",
       " 'metrics': ['loss',\n",
       "  'sparse_categorical_accuracy',\n",
       "  'val_loss',\n",
       "  'val_sparse_categorical_accuracy']}"
      ]
     },
     "execution_count": 34,
     "metadata": {},
     "output_type": "execute_result"
    }
   ],
   "source": [
    "history.params"
   ]
  },
  {
   "cell_type": "code",
   "execution_count": 35,
   "metadata": {},
   "outputs": [
    {
     "name": "stdout",
     "output_type": "stream",
     "text": [
      "[0, 1, 2, 3, 4, 5, 6, 7, 8, 9, 10, 11, 12, 13, 14, 15, 16, 17, 18, 19, 20, 21, 22, 23, 24, 25, 26, 27, 28, 29, 30, 31, 32, 33, 34, 35, 36, 37, 38, 39, 40, 41, 42, 43, 44, 45, 46, 47, 48, 49]\n"
     ]
    }
   ],
   "source": [
    "print(history.epoch)"
   ]
  },
  {
   "cell_type": "code",
   "execution_count": 36,
   "metadata": {},
   "outputs": [
    {
     "data": {
      "text/plain": [
       "dict_keys(['loss', 'sparse_categorical_accuracy', 'val_loss', 'val_sparse_categorical_accuracy'])"
      ]
     },
     "execution_count": 36,
     "metadata": {},
     "output_type": "execute_result"
    }
   ],
   "source": [
    "history.history.keys()"
   ]
  },
  {
   "cell_type": "code",
   "execution_count": 37,
   "metadata": {},
   "outputs": [
    {
     "name": "stdout",
     "output_type": "stream",
     "text": [
      "Saving figure keras_learning_curves_graph\n"
     ]
    },
    {
     "data": {
      "image/png": "[encoded data removed]",
      "text/plain": [
       "<Figure size 576x360 with 1 Axes>"
      ]
     },
     "metadata": {},
     "output_type": "display_data"
    }
   ],
   "source": [
    "import pandas as pd\n",
    "\n",
    "pd.DataFrame(history.history).plot(figsize=(8, 5))\n",
    "plt.grid(True)\n",
    "plt.gca().set_ylim(0, 1)\n",
    "save_fig(\"keras_learning_curves_graph\")\n",
    "plt.show()"
   ]
  },
  {
   "cell_type": "markdown",
   "metadata": {},
   "source": [
    "# Evaluation and prediction"
   ]
  },
  {
   "cell_type": "code",
   "execution_count": 38,
   "metadata": {},
   "outputs": [
    {
     "name": "stdout",
     "output_type": "stream",
     "text": [
      "10000/10000 [==============================] - 1s 74us/sample - loss: 0.4073 - sparse_categorical_accuracy: 0.8539\n"
     ]
    },
    {
     "data": {
      "text/plain": [
       "[0.4073339592218399, 0.8539]"
      ]
     },
     "execution_count": 38,
     "metadata": {},
     "output_type": "execute_result"
    }
   ],
   "source": [
    "model.evaluate(X_test, y_test)"
   ]
  },
  {
   "cell_type": "code",
   "execution_count": 39,
   "metadata": {},
   "outputs": [
    {
     "data": {
      "text/plain": [
       "array([[0.  , 0.  , 0.  , 0.  , 0.  , 0.09, 0.  , 0.12, 0.  , 0.79],\n",
       "       [0.  , 0.  , 0.94, 0.  , 0.02, 0.  , 0.04, 0.  , 0.  , 0.  ],\n",
       "       [0.  , 1.  , 0.  , 0.  , 0.  , 0.  , 0.  , 0.  , 0.  , 0.  ]],\n",
       "      dtype=float32)"
      ]
     },
     "execution_count": 39,
     "metadata": {},
     "output_type": "execute_result"
    }
   ],
   "source": [
    "X_new = X_test[:3]\n",
    "y_proba = model.predict(X_new)\n",
    "y_proba.round(2)"
   ]
  },
  {
   "cell_type": "code",
   "execution_count": 40,
   "metadata": {},
   "outputs": [
    {
     "data": {
      "text/plain": [
       "array([9, 2, 1])"
      ]
     },
     "execution_count": 40,
     "metadata": {},
     "output_type": "execute_result"
    }
   ],
   "source": [
    "y_pred = model.predict_classes(X_new)\n",
    "y_pred"
   ]
  },
  {
   "cell_type": "code",
   "execution_count": 41,
   "metadata": {},
   "outputs": [
    {
     "data": {
      "text/plain": [
       "array(['Ankle boot', 'Pullover', 'Trouser'], dtype='<U11')"
      ]
     },
     "execution_count": 41,
     "metadata": {},
     "output_type": "execute_result"
    }
   ],
   "source": [
    "np.array(class_names)[y_pred]"
   ]
  },
  {
   "cell_type": "code",
   "execution_count": 42,
   "metadata": {},
   "outputs": [
    {
     "data": {
      "text/plain": [
       "array([9, 2, 1], dtype=uint8)"
      ]
     },
     "execution_count": 42,
     "metadata": {},
     "output_type": "execute_result"
    }
   ],
   "source": [
    "y_new = y_test[:3]\n",
    "y_new"
   ]
  },
  {
   "cell_type": "markdown",
   "metadata": {},
   "source": [
    "# Regression MLP"
   ]
  },
  {
   "cell_type": "markdown",
   "metadata": {},
   "source": [
    "Let's load, split and scale the California housing dataset (the original one, not the modified one as in chapter 2):"
   ]
  },
  {
   "cell_type": "code",
   "execution_count": 43,
   "metadata": {},
   "outputs": [
    {
     "name": "stderr",
     "output_type": "stream",
     "text": [
      "Downloading Cal. housing from https://ndownloader.figshare.com/files/5976036 to /home/varghaps/scikit_learn_data\n",
      "WARNING: Logging before flag parsing goes to stderr.\n",
      "I0414 05:35:04.713600 139626834154880 california_housing.py:114] Downloading Cal. housing from https://ndownloader.figshare.com/files/5976036 to /home/varghaps/scikit_learn_data\n"
     ]
    }
   ],
   "source": [
    "from sklearn.datasets import fetch_california_housing\n",
    "from sklearn.model_selection import train_test_split\n",
    "from sklearn.preprocessing import StandardScaler\n",
    "\n",
    "housing = fetch_california_housing()\n",
    "\n",
    "X_train_full, X_test, y_train_full, y_test = train_test_split(housing.data, housing.target, random_state=42)\n",
    "X_train, X_valid, y_train, y_valid = train_test_split(X_train_full, y_train_full, random_state=42)\n",
    "\n",
    "scaler = StandardScaler()\n",
    "X_train = scaler.fit_transform(X_train)\n",
    "X_valid = scaler.transform(X_valid)\n",
    "X_test = scaler.transform(X_test)"
   ]
  },
  {
   "cell_type": "code",
   "execution_count": 44,
   "metadata": {},
   "outputs": [],
   "source": [
    "np.random.seed(42)\n",
    "tf.random.set_seed(42)"
   ]
  },
  {
   "cell_type": "code",
   "execution_count": 45,
   "metadata": {},
   "outputs": [
    {
     "name": "stdout",
     "output_type": "stream",
     "text": [
      "Train on 11610 samples, validate on 3870 samples\n",
      "Epoch 1/20\n",
      "11610/11610 [==============================] - 1s 113us/sample - loss: 1.6343 - val_loss: 0.9361\n",
      "Epoch 2/20\n",
      "11610/11610 [==============================] - 1s 97us/sample - loss: 0.7053 - val_loss: 0.6556\n",
      "Epoch 3/20\n",
      "11610/11610 [==============================] - 1s 104us/sample - loss: 0.6343 - val_loss: 0.6028\n",
      "Epoch 4/20\n",
      "11610/11610 [==============================] - 1s 107us/sample - loss: 0.5974 - val_loss: 0.5631\n",
      "Epoch 5/20\n",
      "11610/11610 [==============================] - 1s 107us/sample - loss: 0.5701 - val_loss: 0.5375\n",
      "Epoch 6/20\n",
      "11610/11610 [==============================] - 1s 104us/sample - loss: 0.5474 - val_loss: 0.5165\n",
      "Epoch 7/20\n",
      "11610/11610 [==============================] - 1s 106us/sample - loss: 0.5283 - val_loss: 0.5072\n",
      "Epoch 8/20\n",
      "11610/11610 [==============================] - 1s 105us/sample - loss: 0.5130 - val_loss: 0.4806\n",
      "Epoch 9/20\n",
      "11610/11610 [==============================] - 1s 103us/sample - loss: 0.4989 - val_loss: 0.4712\n",
      "Epoch 10/20\n",
      "11610/11610 [==============================] - 1s 103us/sample - loss: 0.4874 - val_loss: 0.4651\n",
      "Epoch 11/20\n",
      "11610/11610 [==============================] - 1s 104us/sample - loss: 0.4780 - val_loss: 0.4457\n",
      "Epoch 12/20\n",
      "11610/11610 [==============================] - 1s 105us/sample - loss: 0.4690 - val_loss: 0.4364\n",
      "Epoch 13/20\n",
      "11610/11610 [==============================] - 1s 103us/sample - loss: 0.4614 - val_loss: 0.4299\n",
      "Epoch 14/20\n",
      "11610/11610 [==============================] - 1s 103us/sample - loss: 0.4550 - val_loss: 0.4245\n",
      "Epoch 15/20\n",
      "11610/11610 [==============================] - 1s 104us/sample - loss: 0.4490 - val_loss: 0.4175\n",
      "Epoch 16/20\n",
      "11610/11610 [==============================] - 1s 103us/sample - loss: 0.4437 - val_loss: 0.4121\n",
      "Epoch 17/20\n",
      "11610/11610 [==============================] - 1s 104us/sample - loss: 0.4390 - val_loss: 0.4099\n",
      "Epoch 18/20\n",
      "11610/11610 [==============================] - 1s 105us/sample - loss: 0.4347 - val_loss: 0.4037\n",
      "Epoch 19/20\n",
      "11610/11610 [==============================] - 1s 105us/sample - loss: 0.4309 - val_loss: 0.3997\n",
      "Epoch 20/20\n",
      "11610/11610 [==============================] - 1s 104us/sample - loss: 0.4275 - val_loss: 0.3971\n",
      "5160/5160 [==============================] - 0s 52us/sample - loss: 0.4213\n"
     ]
    }
   ],
   "source": [
    "model = keras.models.Sequential([\n",
    "    keras.layers.Dense(30, activation=\"relu\", input_shape=X_train.shape[1:]),\n",
    "    keras.layers.Dense(1)\n",
    "])\n",
    "model.compile(loss=\"mean_squared_error\", optimizer=\"sgd\")\n",
    "history = model.fit(X_train, y_train, epochs=20, validation_data=(X_valid, y_valid))\n",
    "mse_test = model.evaluate(X_test, y_test)\n",
    "X_new = X_test[:3]\n",
    "y_pred = model.predict(X_new)"
   ]
  },
  {
   "cell_type": "code",
   "execution_count": 46,
   "metadata": {},
   "outputs": [
    {
     "data": {
      "image/png": "[encoded data removed]",
      "text/plain": [
       "<Figure size 432x288 with 1 Axes>"
      ]
     },
     "metadata": {},
     "output_type": "display_data"
    }
   ],
   "source": [
    "plt.plot(pd.DataFrame(history.history))\n",
    "plt.grid(True)\n",
    "plt.gca().set_ylim(0, 1)\n",
    "plt.show()"
   ]
  },
  {
   "cell_type": "code",
   "execution_count": 47,
   "metadata": {},
   "outputs": [
    {
     "data": {
      "text/plain": [
       "array([[0.38745373],\n",
       "       [1.6820505 ],\n",
       "       [3.0960474 ]], dtype=float32)"
      ]
     },
     "execution_count": 47,
     "metadata": {},
     "output_type": "execute_result"
    }
   ],
   "source": [
    "y_pred"
   ]
  },
  {
   "cell_type": "markdown",
   "metadata": {},
   "source": [
    "# Saving and Restoring"
   ]
  },
  {
   "cell_type": "code",
   "execution_count": 48,
   "metadata": {},
   "outputs": [],
   "source": [
    "model.save(\"my_keras_model.h5\")"
   ]
  },
  {
   "cell_type": "code",
   "execution_count": 49,
   "metadata": {},
   "outputs": [],
   "source": [
    "model = keras.models.load_model(\"my_keras_model.h5\")"
   ]
  },
  {
   "cell_type": "code",
   "execution_count": 50,
   "metadata": {},
   "outputs": [
    {
     "data": {
      "text/plain": [
       "array([[0.38745373],\n",
       "       [1.6820505 ],\n",
       "       [3.0960474 ]], dtype=float32)"
      ]
     },
     "execution_count": 50,
     "metadata": {},
     "output_type": "execute_result"
    }
   ],
   "source": [
    "model.predict(X_new)"
   ]
  },
  {
   "cell_type": "code",
   "execution_count": 51,
   "metadata": {},
   "outputs": [],
   "source": [
    "model.save_weights(\"my_keras_weights.ckpt\")"
   ]
  },
  {
   "cell_type": "code",
   "execution_count": 52,
   "metadata": {},
   "outputs": [
    {
     "data": {
      "text/plain": [
       "<tensorflow.python.training.tracking.util.CheckpointLoadStatus at 0x7efce8bfa358>"
      ]
     },
     "execution_count": 52,
     "metadata": {},
     "output_type": "execute_result"
    }
   ],
   "source": [
    "model.load_weights(\"my_keras_weights.ckpt\")"
   ]
  },
  {
   "cell_type": "markdown",
   "metadata": {},
   "source": [
    "# Tackling Fashion MNIST With a CNN"
   ]
  },
  {
   "cell_type": "code",
   "execution_count": 53,
   "metadata": {},
   "outputs": [],
   "source": [
    "(X_train_full, y_train_full), (X_test, y_test) = keras.datasets.fashion_mnist.load_data()\n",
    "X_train, X_valid = X_train_full[:-5000], X_train_full[-5000:]\n",
    "y_train, y_valid = y_train_full[:-5000], y_train_full[-5000:]\n",
    "\n",
    "X_mean = X_train.mean(axis=0, keepdims=True)\n",
    "X_std = X_train.std(axis=0, keepdims=True) + 1e-7\n",
    "X_train = (X_train - X_mean) / X_std\n",
    "X_valid = (X_valid - X_mean) / X_std\n",
    "X_test = (X_test - X_mean) / X_std\n",
    "\n",
    "X_train = X_train[..., np.newaxis]\n",
    "X_valid = X_valid[..., np.newaxis]\n",
    "X_test = X_test[..., np.newaxis]"
   ]
  },
  {
   "cell_type": "code",
   "execution_count": 54,
   "metadata": {},
   "outputs": [
    {
     "data": {
      "text/plain": [
       "(55000, 28, 28, 1)"
      ]
     },
     "execution_count": 54,
     "metadata": {},
     "output_type": "execute_result"
    }
   ],
   "source": [
    "X_train.shape"
   ]
  },
  {
   "cell_type": "code",
   "execution_count": 55,
   "metadata": {},
   "outputs": [],
   "source": [
    "from functools import partial\n",
    "\n",
    "DefaultConv2D = partial(keras.layers.Conv2D,\n",
    "                        kernel_size=3, activation='relu', padding=\"SAME\")\n",
    "\n",
    "model = keras.models.Sequential([\n",
    "    DefaultConv2D(filters=64, kernel_size=7, input_shape=[28, 28, 1]),\n",
    "    keras.layers.MaxPooling2D(pool_size=2),\n",
    "    DefaultConv2D(filters=128),\n",
    "    DefaultConv2D(filters=128),\n",
    "    keras.layers.MaxPooling2D(pool_size=2),\n",
    "    DefaultConv2D(filters=256),\n",
    "    DefaultConv2D(filters=256),\n",
    "    keras.layers.MaxPooling2D(pool_size=2),\n",
    "    keras.layers.Flatten(),\n",
    "    keras.layers.Dense(units=128, activation='relu'),\n",
    "    keras.layers.Dropout(0.5),\n",
    "    keras.layers.Dense(units=64, activation='relu'),\n",
    "    keras.layers.Dropout(0.5),\n",
    "    keras.layers.Dense(units=10, activation='softmax'),\n",
    "])"
   ]
  },
  {
   "cell_type": "code",
   "execution_count": 56,
   "metadata": {},
   "outputs": [],
   "source": [
    "np.random.seed(42)\n",
    "tf.random.set_seed(42)"
   ]
  },
  {
   "cell_type": "code",
   "execution_count": 57,
   "metadata": {},
   "outputs": [
    {
     "name": "stdout",
     "output_type": "stream",
     "text": [
      "Train on 55000 samples, validate on 5000 samples\n",
      "Epoch 1/15\n",
      "55000/55000 [==============================] - 47s 863us/sample - loss: 0.7219 - accuracy: 0.7477 - val_loss: 0.3859 - val_accuracy: 0.8632\n",
      "Epoch 2/15\n",
      "55000/55000 [==============================] - 41s 743us/sample - loss: 0.4232 - accuracy: 0.8555 - val_loss: 0.3298 - val_accuracy: 0.8788\n",
      "Epoch 3/15\n",
      "55000/55000 [==============================] - 41s 738us/sample - loss: 0.3623 - accuracy: 0.8773 - val_loss: 0.2887 - val_accuracy: 0.8980\n",
      "Epoch 4/15\n",
      "55000/55000 [==============================] - 40s 736us/sample - loss: 0.3302 - accuracy: 0.8901 - val_loss: 0.2814 - val_accuracy: 0.8966\n",
      "Epoch 5/15\n",
      "55000/55000 [==============================] - 41s 737us/sample - loss: 0.3069 - accuracy: 0.8951 - val_loss: 0.2880 - val_accuracy: 0.8980\n",
      "Epoch 6/15\n",
      "55000/55000 [==============================] - 41s 737us/sample - loss: 0.2915 - accuracy: 0.8993 - val_loss: 0.2778 - val_accuracy: 0.9020\n",
      "Epoch 7/15\n",
      "55000/55000 [==============================] - 41s 739us/sample - loss: 0.2730 - accuracy: 0.9070 - val_loss: 0.2690 - val_accuracy: 0.9044\n",
      "Epoch 8/15\n",
      "55000/55000 [==============================] - 41s 738us/sample - loss: 0.2584 - accuracy: 0.9122 - val_loss: 0.2842 - val_accuracy: 0.8964\n",
      "Epoch 9/15\n",
      "55000/55000 [==============================] - 41s 736us/sample - loss: 0.2539 - accuracy: 0.9135 - val_loss: 0.2894 - val_accuracy: 0.9032\n",
      "Epoch 10/15\n",
      "55000/55000 [==============================] - 41s 743us/sample - loss: 0.2500 - accuracy: 0.9139 - val_loss: 0.2919 - val_accuracy: 0.9026\n",
      "Epoch 11/15\n",
      "55000/55000 [==============================] - 41s 744us/sample - loss: 0.2307 - accuracy: 0.9204 - val_loss: 0.2842 - val_accuracy: 0.9012\n",
      "Epoch 12/15\n",
      "55000/55000 [==============================] - 41s 747us/sample - loss: 0.2426 - accuracy: 0.9190 - val_loss: 0.2791 - val_accuracy: 0.9076\n",
      "Epoch 13/15\n",
      "55000/55000 [==============================] - 41s 747us/sample - loss: 0.2206 - accuracy: 0.9246 - val_loss: 0.3017 - val_accuracy: 0.9024\n",
      "Epoch 14/15\n",
      "55000/55000 [==============================] - 41s 748us/sample - loss: 0.2222 - accuracy: 0.9251 - val_loss: 0.3330 - val_accuracy: 0.9084\n",
      "Epoch 15/15\n",
      "55000/55000 [==============================] - 41s 748us/sample - loss: 0.2141 - accuracy: 0.9255 - val_loss: 0.3225 - val_accuracy: 0.9090\n",
      "10000/10000 [==============================] - 2s 199us/sample - loss: 0.3213 - accuracy: 0.9055\n"
     ]
    }
   ],
   "source": [
    "model.compile(loss=\"sparse_categorical_crossentropy\", optimizer=\"nadam\", metrics=[\"accuracy\"])\n",
    "history = model.fit(X_train, y_train, epochs=15, validation_data=[X_valid, y_valid])\n",
    "score = model.evaluate(X_test, y_test)\n",
    "X_new = X_test[:10] # pretend we have new images\n",
    "y_pred = model.predict(X_new)"
   ]
  },
  {
   "cell_type": "code",
   "execution_count": 58,
   "metadata": {},
   "outputs": [
    {
     "data": {
      "text/plain": [
       "[0.32131441072821615, 0.9055]"
      ]
     },
     "execution_count": 58,
     "metadata": {},
     "output_type": "execute_result"
    }
   ],
   "source": [
    "score"
   ]
  },
  {
   "cell_type": "code",
   "execution_count": 59,
   "metadata": {},
   "outputs": [
    {
     "name": "stdout",
     "output_type": "stream",
     "text": [
      "Saving figure keras_learning_curves_graph\n"
     ]
    },
    {
     "data": {
      "image/png": "[encoded data removed]",
      "text/plain": [
       "<Figure size 576x360 with 1 Axes>"
      ]
     },
     "metadata": {},
     "output_type": "display_data"
    }
   ],
   "source": [
    "import pandas as pd\n",
    "\n",
    "pd.DataFrame(history.history).plot(figsize=(8, 5))\n",
    "plt.grid(True)\n",
    "plt.gca().set_ylim(0, 1)\n",
    "save_fig(\"keras_learning_curves_graph\")\n",
    "plt.show()"
   ]
  }
 ],
 "metadata": {
  "kernelspec": {
   "display_name": "Python 3",
   "language": "python",
   "name": "python3"
  },
  "language_info": {
   "codemirror_mode": {
    "name": "ipython",
    "version": 3
   },
   "file_extension": ".py",
   "mimetype": "text/x-python",
   "name": "python",
   "nbconvert_exporter": "python",
   "pygments_lexer": "ipython3",
   "version": "3.6.7"
  },
  "nav_menu": {
   "height": "264px",
   "width": "369px"
  },
  "toc": {
   "navigate_menu": true,
   "number_sections": true,
   "sideBar": true,
   "threshold": 6,
   "toc_cell": false,
   "toc_section_display": "block",
   "toc_window_display": false
  }
 },
 "nbformat": 4,
 "nbformat_minor": 1
}
